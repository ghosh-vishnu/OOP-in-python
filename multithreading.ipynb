{
 "cells": [
  {
   "cell_type": "code",
   "execution_count": 5,
   "metadata": {},
   "outputs": [
    {
     "name": "stdout",
     "output_type": "stream",
     "text": [
      "Vishnu\n",
      "Vishnu\n",
      "Vishnu\n",
      "Vishnu\n",
      "Vishnu\n",
      "Keshav\n",
      "Keshav\n",
      "Keshav\n",
      "Keshav\n",
      "Keshav\n"
     ]
    }
   ],
   "source": [
    "# Single-Threading\n",
    "from time import sleep\n",
    "class A:\n",
    "    def run(self):\n",
    "        for i in range(5):\n",
    "            print(\"Vishnu\")\n",
    "            sleep(1)\n",
    "class B:\n",
    "    def run(self):\n",
    "        for i in range(5):\n",
    "            print(\"Keshav\")\n",
    "            sleep(1)\n",
    "C1=A()\n",
    "C2=B()\n",
    "C1.run()\n",
    "C2.run()\n"
   ]
  },
  {
   "cell_type": "code",
   "execution_count": 13,
   "metadata": {},
   "outputs": [
    {
     "name": "stdout",
     "output_type": "stream",
     "text": [
      "1 Vishnu\n",
      "1 Keshav\n",
      "\n"
     ]
    },
    {
     "name": "stdout",
     "output_type": "stream",
     "text": [
      "2 Vishnu\n",
      "2 Keshav\n",
      "\n",
      "3 Vishnu\n",
      "3 Keshav\n",
      "\n",
      "4 Vishnu\n",
      "4 Keshav\n",
      "\n",
      "5 Vishnu\n",
      "5 Keshav\n",
      "\n"
     ]
    }
   ],
   "source": [
    "# Multi Threading\n",
    "# Single-Threading\n",
    "from threading import Thread\n",
    "from time import sleep\n",
    "class A(Thread):\n",
    "    def run(self):\n",
    "        for i in range(5):\n",
    "            print(i+1,\"Vishnu\")\n",
    "        \n",
    "            sleep(1)\n",
    "class B(Thread):\n",
    "    def run(self):\n",
    "        for i in range(5):\n",
    "            print(i+1,\"Keshav\")\n",
    "            print()\n",
    "            sleep(1)\n",
    "C1=A()\n",
    "C2=B()\n",
    "C1.start()\n",
    "C2.start()\n"
   ]
  },
  {
   "cell_type": "code",
   "execution_count": null,
   "metadata": {},
   "outputs": [],
   "source": []
  }
 ],
 "metadata": {
  "kernelspec": {
   "display_name": "Python 3",
   "language": "python",
   "name": "python3"
  },
  "language_info": {
   "codemirror_mode": {
    "name": "ipython",
    "version": 3
   },
   "file_extension": ".py",
   "mimetype": "text/x-python",
   "name": "python",
   "nbconvert_exporter": "python",
   "pygments_lexer": "ipython3",
   "version": "3.9.13"
  },
  "orig_nbformat": 4,
  "vscode": {
   "interpreter": {
    "hash": "7f1e89bd3fa5c3e0ca7e0da137f5d21b5fc57e110ea962c102bb398a10fad218"
   }
  }
 },
 "nbformat": 4,
 "nbformat_minor": 2
}
