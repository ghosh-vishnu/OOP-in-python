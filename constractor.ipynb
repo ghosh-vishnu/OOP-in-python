{
 "cells": [
  {
   "cell_type": "markdown",
   "metadata": {},
   "source": [
    "### Default Constractor"
   ]
  },
  {
   "cell_type": "code",
   "execution_count": 1,
   "metadata": {},
   "outputs": [],
   "source": [
    "class A: #Empty Constractor or Default Constractor\n",
    "    pass\n",
    "obj=A()"
   ]
  },
  {
   "cell_type": "code",
   "execution_count": 2,
   "metadata": {},
   "outputs": [],
   "source": [
    "class A: #Empty Constractor\n",
    "    def __init__(self) -> None:\n",
    "        pass\n",
    "obj=A()"
   ]
  },
  {
   "cell_type": "code",
   "execution_count": 3,
   "metadata": {},
   "outputs": [
    {
     "name": "stdout",
     "output_type": "stream",
     "text": [
      "Vishnu\n"
     ]
    }
   ],
   "source": [
    "class A:\n",
    "    def __init__(self) -> None:\n",
    "        name=\"Vishnu\"\n",
    "        print(name)\n",
    "obj=A()\n"
   ]
  },
  {
   "cell_type": "code",
   "execution_count": 4,
   "metadata": {},
   "outputs": [
    {
     "name": "stdout",
     "output_type": "stream",
     "text": [
      "Vishnu 10\n"
     ]
    }
   ],
   "source": [
    "class A:\n",
    "    age=10\n",
    "    def __init__(self) -> None:\n",
    "        name=\"Vishnu\"\n",
    "        print(name,self.age)\n",
    "obj=A()"
   ]
  },
  {
   "cell_type": "markdown",
   "metadata": {},
   "source": [
    "### Parametrized Constractor"
   ]
  },
  {
   "cell_type": "code",
   "execution_count": 12,
   "metadata": {},
   "outputs": [
    {
     "name": "stdout",
     "output_type": "stream",
     "text": [
      "10 Vishnu Delhi\n",
      "10 Vishnu Banka\n",
      "25 Kunal NCR\n"
     ]
    }
   ],
   "source": [
    "class A:\n",
    "    def __init__(self,age,name,address) -> None:\n",
    "        print(age,name,address)\n",
    "class B:\n",
    "    def __init__(self,age,name,address) -> None:\n",
    "        address=\"NCR\"\n",
    "        print(age,name,address)\n",
    "obj=A(10,\"Vishnu\",\"Delhi\")\n",
    "obj=A(10,\"Vishnu\",\"Banka\",)\n",
    "obj1=B(25,\"Kunal\",None)\n",
    "\n"
   ]
  },
  {
   "cell_type": "code",
   "execution_count": null,
   "metadata": {},
   "outputs": [],
   "source": []
  }
 ],
 "metadata": {
  "kernelspec": {
   "display_name": "Python 3",
   "language": "python",
   "name": "python3"
  },
  "language_info": {
   "codemirror_mode": {
    "name": "ipython",
    "version": 3
   },
   "file_extension": ".py",
   "mimetype": "text/x-python",
   "name": "python",
   "nbconvert_exporter": "python",
   "pygments_lexer": "ipython3",
   "version": "3.9.13"
  },
  "orig_nbformat": 4,
  "vscode": {
   "interpreter": {
    "hash": "7f1e89bd3fa5c3e0ca7e0da137f5d21b5fc57e110ea962c102bb398a10fad218"
   }
  }
 },
 "nbformat": 4,
 "nbformat_minor": 2
}
