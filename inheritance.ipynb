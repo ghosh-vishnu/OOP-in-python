{
 "cells": [
  {
   "cell_type": "code",
   "execution_count": null,
   "metadata": {},
   "outputs": [
    {
     "ename": "",
     "evalue": "",
     "output_type": "error",
     "traceback": [
      "\u001b[1;31mFailed to start the Kernel. \n",
      "\u001b[1;31mUnable to start Kernel 'Python 3.9.13' due to connection timeout. \n",
      "\u001b[1;31mView Jupyter <a href='command:jupyter.viewOutput'>log</a> for further details."
     ]
    }
   ],
   "source": [
    "class father:\n",
    "    def Lands(self):\n",
    "        print(\"Having 50 Ekar Lands\")\n",
    "class son(father):\n",
    "    def money(self):\n",
    "        print(\"Having 10 Lakhs Money\")\n",
    "obj=son()\n",
    "obj.Lands()\n",
    "obj.money()"
   ]
  },
  {
   "cell_type": "code",
   "execution_count": 10,
   "metadata": {},
   "outputs": [
    {
     "name": "stdout",
     "output_type": "stream",
     "text": [
      "Addition:  141\n",
      "Division:  1.2380952380952381\n",
      "Multiplication  4914\n",
      "Subtraction:  -15\n",
      "Reminder  63\n"
     ]
    }
   ],
   "source": [
    "                                        # Simple Inheritance\n",
    "class A:\n",
    "    num1=int(input(\"Enter First Number\"))\n",
    "    num2=int(input(\"Enter Second Number\"))\n",
    "    def Add(self):\n",
    "        print(\"Addition: \",self.num1+self.num2)\n",
    "    def Sub(self):\n",
    "        print(\"Subtraction: \",self.num1-self.num2)\n",
    "    \n",
    "class B(A):\n",
    "    def Mul(self):\n",
    "        print(\"Multiplication \",self.num1*self.num2)\n",
    "    def Div(self):\n",
    "        print(\"Division: \",self.num2/self.num1)\n",
    "    def rem(self):\n",
    "        print(\"Reminder \",self.num1%self.num2)\n",
    "obj=B()\n",
    "obj.Add()\n",
    "obj.Div()\n",
    "obj.Mul()\n",
    "obj.Sub()\n",
    "obj.rem()"
   ]
  },
  {
   "cell_type": "code",
   "execution_count": 3,
   "metadata": {},
   "outputs": [
    {
     "name": "stdout",
     "output_type": "stream",
     "text": [
      "Addition:  63\n",
      "Subtraction:  -49\n",
      "Multiplication of two number is:  392\n",
      "Division of two number is:  0.125\n",
      "Reminder:  7\n"
     ]
    }
   ],
   "source": [
    "                                    # Multi_level Inheritance\n",
    "class A:\n",
    "    num1=int(input(\"Enter Your First Number\"))\n",
    "    num2=int(input(\"Enter Your Secound Number\"))\n",
    "    def sum(self):\n",
    "        print(\"Addition: \",self.num1+self.num2)\n",
    "    def sub(self):\n",
    "        print(\"Subtraction: \",self.num2-self.num1)\n",
    "class B(A):\n",
    "    def mul(self):\n",
    "        print(\"Multiplication of two number is: \",self.num1*self.num2)\n",
    "    def div(self):\n",
    "        print(\"Division of two number is: \",self.num2/self.num1)\n",
    "class C(B):\n",
    "    def rem(self):\n",
    "        print(\"Reminder: \",self.num2%self.num1)\n",
    "obj=C()\n",
    "obj.sum()\n",
    "obj.sub()\n",
    "obj.mul()\n",
    "obj.div()\n",
    "obj.rem()\n",
    "    "
   ]
  },
  {
   "cell_type": "code",
   "execution_count": 5,
   "metadata": {},
   "outputs": [
    {
     "name": "stdout",
     "output_type": "stream",
     "text": [
      "Addition:  71\n",
      "Subtraction:  -55\n"
     ]
    },
    {
     "ename": "AttributeError",
     "evalue": "'A' object has no attribute 'mul'",
     "output_type": "error",
     "traceback": [
      "\u001b[1;31m---------------------------------------------------------------------------\u001b[0m",
      "\u001b[1;31mAttributeError\u001b[0m                            Traceback (most recent call last)",
      "Cell \u001b[1;32mIn[5], line 20\u001b[0m\n\u001b[0;32m     18\u001b[0m obj\u001b[39m.\u001b[39msum()\n\u001b[0;32m     19\u001b[0m obj\u001b[39m.\u001b[39msub()\n\u001b[1;32m---> 20\u001b[0m obj\u001b[39m.\u001b[39;49mmul()\n\u001b[0;32m     21\u001b[0m obj\u001b[39m.\u001b[39mdiv()\n\u001b[0;32m     22\u001b[0m obj\u001b[39m.\u001b[39mrem()\n",
      "\u001b[1;31mAttributeError\u001b[0m: 'A' object has no attribute 'mul'"
     ]
    }
   ],
   "source": [
    "                                    # Multi_level Inheritance\n",
    "class A:\n",
    "    num1=int(input(\"Enter Your First Number\"))\n",
    "    num2=int(input(\"Enter Your Secound Number\"))\n",
    "    def sum(self):\n",
    "        print(\"Addition: \",self.num1+self.num2)\n",
    "    def sub(self):\n",
    "        print(\"Subtraction: \",self.num2-self.num1)\n",
    "class B(A):\n",
    "    def mul(self):\n",
    "        print(\"Multiplication of two number is: \",self.num1*self.num2)\n",
    "    def div(self):\n",
    "        print(\"Division of two number is: \",self.num2/self.num1)\n",
    "class C(B):\n",
    "    def rem(self):\n",
    "        print(\"Reminder: \",self.num2%self.num1)\n",
    "obj=A()\n",
    "obj.sum()\n",
    "obj.sub()\n",
    "obj.mul()\n",
    "obj.div()\n",
    "obj.rem()"
   ]
  },
  {
   "cell_type": "code",
   "execution_count": 6,
   "metadata": {},
   "outputs": [
    {
     "name": "stdout",
     "output_type": "stream",
     "text": [
      "1 Dear Vishnu\n",
      "2 Dear Vishnu\n",
      "3 Dear Vishnu\n",
      "4 Dear Vishnu\n",
      "5 Dear Vishnu\n"
     ]
    }
   ],
   "source": [
    "i=0\n",
    "while i<5:\n",
    "    print(i+1,\"Dear Vishnu\")\n",
    "    i+=1"
   ]
  },
  {
   "cell_type": "code",
   "execution_count": 10,
   "metadata": {},
   "outputs": [
    {
     "name": "stdout",
     "output_type": "stream",
     "text": [
      "Vishnu Kumar Ghosh\n",
      "Vishnukant Ghosh\n"
     ]
    }
   ],
   "source": [
    "class father:\n",
    "    surname=\"Ghosh\"\n",
    "class son(father):\n",
    "    def show(self):\n",
    "        print(\"Vishnu Kumar\",self.surname)\n",
    "class Gson(son):\n",
    "    def display(self):\n",
    "        print(\"Vishnukant\",self.surname)\n",
    "obj=son()\n",
    "obj.show()\n",
    "\n",
    "gs=Gson()\n",
    "gs.display()"
   ]
  },
  {
   "cell_type": "code",
   "execution_count": 14,
   "metadata": {},
   "outputs": [
    {
     "name": "stdout",
     "output_type": "stream",
     "text": [
      "Backend Task implimented using : Database & Java\n",
      "Frontend Task implimented using:  HTML, CSS, JavaScript\n",
      "Dynamic Websited is Created\n"
     ]
    }
   ],
   "source": [
    "# Multipel Inheritance\n",
    "class vishnu:\n",
    "    back=\"Database & Java\"\n",
    "    def backend(self):\n",
    "        print(\"Backend Task implimented using :\",self.back)\n",
    "class keshav:\n",
    "    front=\"HTML, CSS, JavaScript\"\n",
    "    def frontend(self):\n",
    "        print(\"Frontend Task implimented using: \",self.front)\n",
    "class teamleader(vishnu,keshav):\n",
    "    def show(self):\n",
    "        print(\"Dynamic Websited is Created\")\n",
    "T=teamleader()\n",
    "T.backend()\n",
    "T.frontend()\n",
    "T.show()"
   ]
  },
  {
   "cell_type": "code",
   "execution_count": 2,
   "metadata": {},
   "outputs": [
    {
     "name": "stdout",
     "output_type": "stream",
     "text": [
      "My Name is Vishnu Kumar  Ghosh\n",
      "My Surname is  Ghosh\n",
      "My Name is Keshav Kumar  Ghosh\n",
      "My Surname is  Ghosh\n",
      "My Name is Prince Kumar  Ghosh\n",
      "My Surname is  Ghosh\n"
     ]
    }
   ],
   "source": [
    "                    # Hierarchical Inheritance\n",
    "class father:\n",
    "    surname=\"Ghosh\"\n",
    "    def show(self):\n",
    "        print(\"My Surname is \",self.surname)\n",
    "class son1(father):\n",
    "    def beta1(self):\n",
    "        print(\"My Name is Vishnu Kumar \",self.surname)\n",
    "class son2(father):\n",
    "    def beta2(self):\n",
    "        print(\"My Name is Keshav Kumar \",self.surname)\n",
    "class son3(father):\n",
    "    def beta3(self):\n",
    "        print(\"My Name is Prince Kumar \",self.surname)\n",
    "S1=son1()\n",
    "S2=son2()\n",
    "S3=son3()\n",
    "S1.beta1()\n",
    "S1.show()\n",
    "\n",
    "S2.beta2()\n",
    "S2.show()\n",
    " \n",
    "S3.beta3()\n",
    "S3.show()"
   ]
  },
  {
   "cell_type": "code",
   "execution_count": null,
   "metadata": {},
   "outputs": [],
   "source": []
  }
 ],
 "metadata": {
  "kernelspec": {
   "display_name": "Python 3",
   "language": "python",
   "name": "python3"
  },
  "language_info": {
   "codemirror_mode": {
    "name": "ipython",
    "version": 3
   },
   "file_extension": ".py",
   "mimetype": "text/x-python",
   "name": "python",
   "nbconvert_exporter": "python",
   "pygments_lexer": "ipython3",
   "version": "3.9.13"
  },
  "orig_nbformat": 4,
  "vscode": {
   "interpreter": {
    "hash": "8e284ee3255a07ad8bf76694974743c4c81cb57e7c969474d752d949b11d721e"
   }
  }
 },
 "nbformat": 4,
 "nbformat_minor": 2
}
