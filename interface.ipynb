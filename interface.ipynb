{
 "cells": [
  {
   "attachments": {},
   "cell_type": "markdown",
   "metadata": {},
   "source": [
    "## Interface\n",
    "#### inteface is nothing but abstrat class which contain only abstract method but not any normal method\n",
    "##### Syntax\n",
    "###### import abc\n",
    "###### class interface_class(ABC):\n",
    "           @abstract_method\n",
    "           def fun(self):\n",
    "              pass\n",
    "           @abstract_method\n",
    "           def fun2(self):\n",
    "              pass\n",
    "### NOTE:-\n",
    "* We cant Create object of interface\n",
    "* We use interface when an action is comman but implementation different\n",
    "* All child class should be inherits abstract method \n",
    "\n"
   ]
  },
  {
   "cell_type": "code",
   "execution_count": 12,
   "metadata": {},
   "outputs": [
    {
     "name": "stdout",
     "output_type": "stream",
     "text": [
      "Squre has 4 sides:\n",
      "Circle has Circle shape\n"
     ]
    }
   ],
   "source": [
    "from abc import ABC,abstractmethod\n",
    "class shape(ABC):\n",
    "    @abstractmethod\n",
    "    def show(self):\n",
    "        pass\n",
    "class Squre(shape):\n",
    "    def show(self):\n",
    "        print(\"Squre has 4 sides:\")\n",
    "class Circle(shape):\n",
    "    def show(self):\n",
    "        print(\"Circle has Circle shape\")\n",
    "S=Squre()\n",
    "T=Circle()\n",
    "S.show()\n",
    "T.show()"
   ]
  },
  {
   "cell_type": "code",
   "execution_count": 13,
   "metadata": {},
   "outputs": [
    {
     "name": "stdout",
     "output_type": "stream",
     "text": [
      "Squre has 4 sides:\n",
      "Circle has Circle shape\n"
     ]
    }
   ],
   "source": [
    "from abc import ABC,abstractmethod\n",
    "class shape(ABC):\n",
    "    @abstractmethod\n",
    "    def show(self):\n",
    "        pass\n",
    "    def Design(self):\n",
    "        print(\"Designing................\")\n",
    "class Squre(shape):\n",
    "    def show(self):\n",
    "        print(\"Squre has 4 sides:\")\n",
    "class Circle(shape):\n",
    "    def show(self):\n",
    "        print(\"Circle has Circle shape\")\n",
    "S=Squre()\n",
    "T=Circle()\n",
    "S.show()\n",
    "T.show()"
   ]
  },
  {
   "cell_type": "code",
   "execution_count": 17,
   "metadata": {},
   "outputs": [
    {
     "name": "stdout",
     "output_type": "stream",
     "text": [
      "Circle has Circle shape\n"
     ]
    }
   ],
   "source": [
    "from abc import ABC,abstractmethod\n",
    "class shape(ABC):\n",
    "    @abstractmethod\n",
    "    def show(self):\n",
    "        pass\n",
    "    # @abstractmethod\n",
    "    # def Disp(self):\n",
    "    #     pass\n",
    "class Squre(shape):\n",
    "    def show(self):\n",
    "        print(\"Squre has 4 sides:\")\n",
    "class Circle(shape):\n",
    "    def show(self):\n",
    "        print(\"Circle has Circle shape\")\n",
    "    # def Disp(self):\n",
    "    #     print(\"Squre has 4 sides\")\n",
    "# S=Squre()\n",
    "T=Circle()\n",
    "# S.show()\n",
    "T.show()"
   ]
  },
  {
   "cell_type": "code",
   "execution_count": null,
   "metadata": {},
   "outputs": [],
   "source": []
  }
 ],
 "metadata": {
  "kernelspec": {
   "display_name": "Python 3",
   "language": "python",
   "name": "python3"
  },
  "language_info": {
   "codemirror_mode": {
    "name": "ipython",
    "version": 3
   },
   "file_extension": ".py",
   "mimetype": "text/x-python",
   "name": "python",
   "nbconvert_exporter": "python",
   "pygments_lexer": "ipython3",
   "version": "3.9.13"
  },
  "orig_nbformat": 4,
  "vscode": {
   "interpreter": {
    "hash": "7f1e89bd3fa5c3e0ca7e0da137f5d21b5fc57e110ea962c102bb398a10fad218"
   }
  }
 },
 "nbformat": 4,
 "nbformat_minor": 2
}
