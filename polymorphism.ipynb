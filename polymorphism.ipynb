{
 "cells": [
  {
   "cell_type": "markdown",
   "metadata": {},
   "source": [
    "### Polymorphism\n",
    "Some Object having different behaviour"
   ]
  },
  {
   "cell_type": "code",
   "execution_count": 1,
   "metadata": {},
   "outputs": [
    {
     "name": "stdout",
     "output_type": "stream",
     "text": [
      "10\n",
      "55\n"
     ]
    }
   ],
   "source": [
    "print(5+5)\n",
    "print(\"5\"+\"5\")"
   ]
  },
  {
   "cell_type": "code",
   "execution_count": 4,
   "metadata": {},
   "outputs": [
    {
     "name": "stdout",
     "output_type": "stream",
     "text": [
      "6\n",
      "2\n"
     ]
    }
   ],
   "source": [
    "print(len(\"Vishnu\"))# Calculate Number of Character\n",
    "print(len([\"vishnu\",\"vishnu\"]))# Calculate Number of String"
   ]
  },
  {
   "cell_type": "code",
   "execution_count": 6,
   "metadata": {},
   "outputs": [
    {
     "name": "stdout",
     "output_type": "stream",
     "text": [
      "Welcome Vishnu Kumar\n"
     ]
    }
   ],
   "source": [
    "                                # Method Overloading\n",
    "class A:\n",
    "    def show(self):\n",
    "        print(\"Welcome\")\n",
    "    def show(self,firstname):\n",
    "        print(\"Welcome\",firstname)\n",
    "    def show(self,firstname,lastname):\n",
    "        print(\"Welcome\",firstname,lastname)\n",
    "obj=A()\n",
    "obj.show(\"Vishnu\",\"Kumar\")"
   ]
  },
  {
   "cell_type": "code",
   "execution_count": 23,
   "metadata": {},
   "outputs": [
    {
     "name": "stdout",
     "output_type": "stream",
     "text": [
      "This is Parent Class\n",
      "This is Child Class\n"
     ]
    }
   ],
   "source": [
    "                                      # Method Overriding\n",
    "class A:\n",
    "    def disp(self):\n",
    "        print(\"This is Parent Class\")\n",
    "class B(A):\n",
    "    def disp(self):\n",
    "        super().disp()\n",
    "        print(\"This is Child Class\")\n",
    "obj=B()\n",
    "obj.disp()"
   ]
  },
  {
   "cell_type": "code",
   "execution_count": null,
   "metadata": {},
   "outputs": [],
   "source": []
  }
 ],
 "metadata": {
  "kernelspec": {
   "display_name": "Python 3",
   "language": "python",
   "name": "python3"
  },
  "language_info": {
   "codemirror_mode": {
    "name": "ipython",
    "version": 3
   },
   "file_extension": ".py",
   "mimetype": "text/x-python",
   "name": "python",
   "nbconvert_exporter": "python",
   "pygments_lexer": "ipython3",
   "version": "3.9.13"
  },
  "orig_nbformat": 4,
  "vscode": {
   "interpreter": {
    "hash": "7f1e89bd3fa5c3e0ca7e0da137f5d21b5fc57e110ea962c102bb398a10fad218"
   }
  }
 },
 "nbformat": 4,
 "nbformat_minor": 2
}
