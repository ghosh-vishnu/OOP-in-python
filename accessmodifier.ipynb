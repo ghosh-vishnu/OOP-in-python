{
 "cells": [
  {
   "cell_type": "markdown",
   "metadata": {},
   "source": [
    "### Access Modifier\n",
    "#### Access Modifier are used to set the limit of member accessibility"
   ]
  },
  {
   "cell_type": "code",
   "execution_count": 4,
   "metadata": {},
   "outputs": [
    {
     "name": "stdout",
     "output_type": "stream",
     "text": [
      "10   20\n",
      "Addition:  30\n"
     ]
    }
   ],
   "source": [
    "class A:\n",
    "    a=10# Public\n",
    "    _b=20# Protected\n",
    "    __c=None# Private\n",
    "    print(a,\" \",_b)\n",
    "    def add(self):\n",
    "        self.__c=self.a+self._b\n",
    "        print(\"Addition: \",self.__c)\n",
    "obj=A()\n",
    "obj.add()"
   ]
  },
  {
   "cell_type": "code",
   "execution_count": 6,
   "metadata": {},
   "outputs": [
    {
     "name": "stdout",
     "output_type": "stream",
     "text": [
      "10   20   None\n",
      "10\n",
      "20\n"
     ]
    },
    {
     "ename": "AttributeError",
     "evalue": "'C' object has no attribute '_C__c'",
     "output_type": "error",
     "traceback": [
      "\u001b[1;31m---------------------------------------------------------------------------\u001b[0m",
      "\u001b[1;31mAttributeError\u001b[0m                            Traceback (most recent call last)",
      "Cell \u001b[1;32mIn[6], line 12\u001b[0m\n\u001b[0;32m     10\u001b[0m         \u001b[39mprint\u001b[39m(\u001b[39mself\u001b[39m\u001b[39m.\u001b[39m__c)\n\u001b[0;32m     11\u001b[0m obj\u001b[39m=\u001b[39mC()\n\u001b[1;32m---> 12\u001b[0m obj\u001b[39m.\u001b[39;49mshow()\n",
      "Cell \u001b[1;32mIn[6], line 10\u001b[0m, in \u001b[0;36mC.show\u001b[1;34m(self)\u001b[0m\n\u001b[0;32m      8\u001b[0m \u001b[39mprint\u001b[39m(\u001b[39mself\u001b[39m\u001b[39m.\u001b[39ma)\n\u001b[0;32m      9\u001b[0m \u001b[39mprint\u001b[39m(\u001b[39mself\u001b[39m\u001b[39m.\u001b[39m_b)\n\u001b[1;32m---> 10\u001b[0m \u001b[39mprint\u001b[39m(\u001b[39mself\u001b[39;49m\u001b[39m.\u001b[39;49m__c)\n",
      "\u001b[1;31mAttributeError\u001b[0m: 'C' object has no attribute '_C__c'"
     ]
    }
   ],
   "source": [
    "class B:\n",
    "    a=10\n",
    "    _b=20\n",
    "    __c=None\n",
    "    print(a,\" \",_b,\" \",__c)\n",
    "class C(B):\n",
    "    def show(self):\n",
    "        print(self.a)\n",
    "        print(self._b)\n",
    "        print(self.__c)\n",
    "obj=C()\n",
    "obj.show()"
   ]
  },
  {
   "cell_type": "code",
   "execution_count": 25,
   "metadata": {},
   "outputs": [
    {
     "name": "stdout",
     "output_type": "stream",
     "text": [
      "6 * 1= 6\n",
      "6 * 2= 12\n",
      "6 * 3= 18\n",
      "6 * 4= 24\n",
      "6 * 5= 30\n",
      "6 * 6= 36\n",
      "6 * 7= 42\n",
      "6 * 8= 48\n",
      "6 * 9= 54\n",
      "6 * 10= 60\n"
     ]
    }
   ],
   "source": [
    "user_input=int(input(\"Enter Your Desired Table Number: \"))\n",
    "for number in range(1,11):\n",
    "    print(user_input,f\"* {number}=\",user_input*number)"
   ]
  },
  {
   "cell_type": "code",
   "execution_count": 26,
   "metadata": {},
   "outputs": [
    {
     "ename": "TypeError",
     "evalue": "'<=' not supported between instances of 'str' and 'int'",
     "output_type": "error",
     "traceback": [
      "\u001b[1;31m---------------------------------------------------------------------------\u001b[0m",
      "\u001b[1;31mTypeError\u001b[0m                                 Traceback (most recent call last)",
      "Cell \u001b[1;32mIn[26], line 4\u001b[0m\n\u001b[0;32m      2\u001b[0m input_password\u001b[39m=\u001b[39m\u001b[39minput\u001b[39m(\u001b[39m\"\u001b[39m\u001b[39mEnter Password: \u001b[39m\u001b[39m\"\u001b[39m)\n\u001b[0;32m      3\u001b[0m \u001b[39mwhile\u001b[39;00m password\u001b[39m!=\u001b[39minput_password:\n\u001b[1;32m----> 4\u001b[0m     \u001b[39mif\u001b[39;00m input_password\u001b[39m<\u001b[39;49m\u001b[39m=\u001b[39;49m\u001b[39m5\u001b[39;49m:\n\u001b[0;32m      5\u001b[0m         input_password\u001b[39m=\u001b[39m\u001b[39minput\u001b[39m(\u001b[39m\"\u001b[39m\u001b[39mEnter Password: \u001b[39m\u001b[39m\"\u001b[39m)\n\u001b[0;32m      6\u001b[0m     \u001b[39melse\u001b[39;00m:\n",
      "\u001b[1;31mTypeError\u001b[0m: '<=' not supported between instances of 'str' and 'int'"
     ]
    }
   ],
   "source": [
    "password=\"Vishnu\"\n",
    "input_password=input(\"Enter Password: \")\n",
    "while password!=input_password:\n",
    "    if input_password<=5:\n",
    "        input_password=input(\"Enter Password: \")\n",
    "    else:\n",
    "        print(\"Login Successfuly\")"
   ]
  },
  {
   "cell_type": "code",
   "execution_count": null,
   "metadata": {},
   "outputs": [],
   "source": []
  }
 ],
 "metadata": {
  "kernelspec": {
   "display_name": "Python 3",
   "language": "python",
   "name": "python3"
  },
  "language_info": {
   "codemirror_mode": {
    "name": "ipython",
    "version": 3
   },
   "file_extension": ".py",
   "mimetype": "text/x-python",
   "name": "python",
   "nbconvert_exporter": "python",
   "pygments_lexer": "ipython3",
   "version": "3.9.13"
  },
  "orig_nbformat": 4,
  "vscode": {
   "interpreter": {
    "hash": "7f1e89bd3fa5c3e0ca7e0da137f5d21b5fc57e110ea962c102bb398a10fad218"
   }
  }
 },
 "nbformat": 4,
 "nbformat_minor": 2
}
