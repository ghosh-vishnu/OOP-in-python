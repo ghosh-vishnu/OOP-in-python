{
 "cells": [
  {
   "cell_type": "code",
   "execution_count": 3,
   "metadata": {},
   "outputs": [],
   "source": [
    "class A:\n",
    "    pass\n",
    "# We Create Empty Class\n"
   ]
  },
  {
   "cell_type": "code",
   "execution_count": null,
   "metadata": {},
   "outputs": [
    {
     "name": "stdout",
     "output_type": "stream",
     "text": [
      "20\n",
      "20\n"
     ]
    }
   ],
   "source": [
    "class B:\n",
    "    def __init__(self):# This is Default Parameter Constructor. Constructor is class member and self means it is a default reference parameter which is referred current object\n",
    "        age=20\n",
    "        print(age)\n",
    "obj=B()\n",
    "obj=B()\n",
    "print(B.age)"
   ]
  },
  {
   "cell_type": "code",
   "execution_count": 2,
   "metadata": {},
   "outputs": [
    {
     "name": "stdout",
     "output_type": "stream",
     "text": [
      "20\n",
      "20\n",
      "20\n",
      "This is Vishnu\n"
     ]
    }
   ],
   "source": [
    "class C:\n",
    "    \"This is Vishnu\"# We write Any Document in under class first line\n",
    "    age=20\n",
    "    \"This is Raman\"# This is Incorrect way to write DocString\n",
    "    print(age)\n",
    "#Method To Call Class\n",
    "obj=C()\n",
    "print(obj.age)\n",
    "print(C.age)\n",
    "print(obj.__doc__)"
   ]
  },
  {
   "cell_type": "code",
   "execution_count": 1,
   "metadata": {},
   "outputs": [
    {
     "name": "stdout",
     "output_type": "stream",
     "text": [
      "10   Vishnu   Orai Jankipur\n"
     ]
    }
   ],
   "source": [
    "class D:\n",
    "    def fun(self,age,name,address):\n",
    "        print(age,\" \",name,\" \",address)\n",
    "obj=D()\n",
    "obj.fun(10,\"Vishnu\",\"Orai Jankipur\")"
   ]
  },
  {
   "cell_type": "code",
   "execution_count": 2,
   "metadata": {},
   "outputs": [
    {
     "name": "stdout",
     "output_type": "stream",
     "text": [
      "10   Kunal   delhi 813101\n",
      "30   Priyanshu   Noida 847235\n"
     ]
    }
   ],
   "source": [
    "# Using Constructor\n",
    "class D:\n",
    "    def __init__(self,age,name,address,pin):\n",
    "        print(age,\" \",name,\" \",address,pin) # This is Logical Entity\n",
    "obj=D(10,\"Kunal\",\"delhi\",813101)# This is real Entity\n",
    "obj=D(30,\"Priyanshu\",\"Noida\",847235)"
   ]
  },
  {
   "cell_type": "code",
   "execution_count": null,
   "metadata": {},
   "outputs": [],
   "source": []
  }
 ],
 "metadata": {
  "kernelspec": {
   "display_name": "Python 3",
   "language": "python",
   "name": "python3"
  },
  "language_info": {
   "codemirror_mode": {
    "name": "ipython",
    "version": 3
   },
   "file_extension": ".py",
   "mimetype": "text/x-python",
   "name": "python",
   "nbconvert_exporter": "python",
   "pygments_lexer": "ipython3",
   "version": "3.9.13"
  },
  "orig_nbformat": 4,
  "vscode": {
   "interpreter": {
    "hash": "7f1e89bd3fa5c3e0ca7e0da137f5d21b5fc57e110ea962c102bb398a10fad218"
   }
  }
 },
 "nbformat": 4,
 "nbformat_minor": 2
}
